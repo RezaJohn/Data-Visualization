{
 "cells": [
  {
   "cell_type": "code",
   "execution_count": 12,
   "metadata": {
    "collapsed": true
   },
   "outputs": [],
   "source": [
    "matrix = [\n",
    "  [1,2,3],\n",
    "  [4,5,6],\n",
    "  [7,8,9]\n",
    "]"
   ]
  },
  {
   "cell_type": "code",
   "execution_count": 11,
   "metadata": {
    "collapsed": true
   },
   "outputs": [],
   "source": [
    "from pprint import pprint"
   ]
  },
  {
   "cell_type": "code",
   "execution_count": 20,
   "metadata": {},
   "outputs": [],
   "source": [
    "def rotate(matrix):\n",
    "    n = len(matrix)\n",
    "    for i in range(n/2):\n",
    "        for j in range(n-i-1):\n",
    "            temp = matrix[i][j]\n",
    "            matrix[i][j] = matrix[j][n-i-1]\n",
    "            "
   ]
  },
  {
   "cell_type": "code",
   "execution_count": 21,
   "metadata": {},
   "outputs": [
    {
     "name": "stdout",
     "output_type": "stream",
     "text": [
      "[[9, 4, 7], [9, 4, 7], [9, 4, 7]]\n"
     ]
    }
   ],
   "source": [
    "\n",
    "pprint(rotate(matrix))"
   ]
  },
  {
   "cell_type": "code",
   "execution_count": 19,
   "metadata": {},
   "outputs": [
    {
     "data": {
      "text/plain": [
       "[]"
      ]
     },
     "execution_count": 19,
     "metadata": {},
     "output_type": "execute_result"
    }
   ],
   "source": [
    "[]*3"
   ]
  },
  {
   "cell_type": "code",
   "execution_count": 22,
   "metadata": {
    "collapsed": true
   },
   "outputs": [],
   "source": [
    "s = \"Gaurav\""
   ]
  },
  {
   "cell_type": "code",
   "execution_count": 23,
   "metadata": {},
   "outputs": [
    {
     "data": {
      "text/plain": [
       "'G'"
      ]
     },
     "execution_count": 23,
     "metadata": {},
     "output_type": "execute_result"
    }
   ],
   "source": [
    "s[0:1]"
   ]
  },
  {
   "cell_type": "code",
   "execution_count": 31,
   "metadata": {},
   "outputs": [
    {
     "name": "stdout",
     "output_type": "stream",
     "text": [
      "i love ice cream and\n"
     ]
    }
   ],
   "source": [
    "def dictionaryContains(word):\n",
    "    dictionary = [\"mobile\", \"samsung\", \"sam\", \"sung\",\n",
    "                            \"man\", \"mango\", \"icecream\", \"and\",\n",
    "                            \"go\", \"i\", \"love\",\"ice\",\"cream\"]\n",
    "    \n",
    "    #print(word)\n",
    "    if word in dictionary:\n",
    "        return True\n",
    "    return False;\n",
    "\n",
    "\n",
    "def wordBreakUtil(str_, n, result):\n",
    "\n",
    "    for i in range(1, n+1):\n",
    "        prefix = str_[0:i]\n",
    "        \n",
    "        if dictionaryContains(prefix):\n",
    "            if i == n:\n",
    "                result += prefix\n",
    "                print(result)\n",
    "                return\n",
    "            \n",
    "            wordBreakUtil(str_[i:n-i], n-i, result + prefix + \" \")\n",
    "\n",
    "            \n",
    "def wordBreak(str_):\n",
    "    wordBreakUtil(str_, len(str_), \"\")\n",
    "    \n",
    "wordBreak(\"ilove\")"
   ]
  },
  {
   "cell_type": "code",
   "execution_count": null,
   "metadata": {
    "collapsed": true
   },
   "outputs": [],
   "source": []
  }
 ],
 "metadata": {
  "kernelspec": {
   "display_name": "Python 3",
   "language": "python",
   "name": "python3"
  },
  "language_info": {
   "codemirror_mode": {
    "name": "ipython",
    "version": 3
   },
   "file_extension": ".py",
   "mimetype": "text/x-python",
   "name": "python",
   "nbconvert_exporter": "python",
   "pygments_lexer": "ipython3",
   "version": "3.6.1"
  }
 },
 "nbformat": 4,
 "nbformat_minor": 2
}
