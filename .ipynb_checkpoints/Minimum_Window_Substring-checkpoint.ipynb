{
 "cells": [
  {
   "cell_type": "code",
   "execution_count": 9,
   "metadata": {},
   "outputs": [],
   "source": [
    "def getWindowString(S,T):\n",
    "    hash_t = [0]*256\n",
    "    hash_s = [0]*256\n",
    "\n",
    "    #If Length of Pattern is greater than length of String then return\n",
    "    if len(S) < len(T):\n",
    "        print(\"Window does not Exist\")\n",
    "        return\n",
    "\n",
    "    #Storing the occurence of characters in Pattern\n",
    "    for i in range(len(T)):\n",
    "        hash_t[ord(T[i])] += 1\n",
    "\n",
    "    count, start, start_index, min_len = 0, 0, -1, 32767\n",
    "\n",
    "    for i in range(len(S)):\n",
    "        order = ord(S[i])\n",
    "        \n",
    "        #Storing occurence of S \n",
    "        hash_s[order] += 1\n",
    "\n",
    "        #Incrementing Count\n",
    "        if (hash_t[order] != 0 and hash_s[order] <= hash_t[order]):\n",
    "            count += 1\n",
    "        \n",
    "        #If pattern found\n",
    "        if count == len(T):\n",
    "            #Remove extra occured characters from T Hash\n",
    "            order = ord(S[start])\n",
    "            while (hash_s[order] > hash_t[order] or hash_t[order] == 0):\n",
    "                if(hash_s[order] > hash_t[order]):\n",
    "                    hash_s[order] -= 1\n",
    "                start += 1\n",
    "                order = ord(S[start])\n",
    "            \n",
    "            window_len = i-start+1\n",
    "            if min_len > window_len:\n",
    "                min_len = window_len\n",
    "                start_index = start\n",
    "\n",
    "    print(start_index, \" \", min_len)\n",
    "    if start_index == -1:\n",
    "        print(\"Window does not exist\", start_index)\n",
    "        return\n",
    "    \n",
    "    return S[start_index:start_index+min_len]"
   ]
  },
  {
   "cell_type": "code",
   "execution_count": 12,
   "metadata": {},
   "outputs": [
    {
     "name": "stdout",
     "output_type": "stream",
     "text": [
      "9   4\n",
      "BANC\n"
     ]
    }
   ],
   "source": [
    "S = \"ADOBECODEBANC\"\n",
    "T = \"ABC\"\n",
    "S = S.upper()\n",
    "T = T.upper()\n",
    "print(getWindowString(S,T))"
   ]
  },
  {
   "cell_type": "code",
   "execution_count": null,
   "metadata": {
    "collapsed": true
   },
   "outputs": [],
   "source": []
  }
 ],
 "metadata": {
  "kernelspec": {
   "display_name": "Python 3",
   "language": "python",
   "name": "python3"
  },
  "language_info": {
   "codemirror_mode": {
    "name": "ipython",
    "version": 3
   },
   "file_extension": ".py",
   "mimetype": "text/x-python",
   "name": "python",
   "nbconvert_exporter": "python",
   "pygments_lexer": "ipython3",
   "version": "3.6.1"
  }
 },
 "nbformat": 4,
 "nbformat_minor": 2
}
